{
 "cells": [
  {
   "cell_type": "code",
   "execution_count": null,
   "metadata": {},
   "outputs": [],
   "source": [
    "from openeye import oechem # OpenEye Python toolkits\n",
    "from openeye.oedepict import * # OpenEye Python toolkits\n",
    "# import oenotebook as oenb\n",
    "# Check license\n",
    "import copy\n",
    "from openforcefield import utils\n",
    "from openmoltools import packmol\n",
    "import parmed as pmd\n",
    "\n",
    "print(\"Is your OEChem licensed? \", oechem.OEChemIsLicensed())\n",
    "from openeye import oeomega # Omega toolkit\n",
    "from openeye import oequacpac #Charge toolkit\n",
    "from openeye import oedocking # Docking toolkit\n",
    "# from oeommtools import utils as oeommutils # Tools for OE/OpenMM\n",
    "from simtk import unit #Unit handling for OpenMM\n",
    "from simtk.openmm import app\n",
    "from simtk.openmm import *\n",
    "from simtk.openmm.app import PDBFile\n",
    "from pdbfixer import PDBFixer\n",
    "\n",
    "from openforcefield.typing.engines.smirnoff import *\n",
    "import nglview as nv\n",
    "\n",
    "import os\n",
    "\n",
    "import mdtraj as md\n",
    "import parmed as pmd\n",
    "# from pdbfixer import PDBFixer # for solvating\n",
    "import math\n",
    "\n"
   ]
  },
  {
   "cell_type": "markdown",
   "metadata": {},
   "source": [
    "# This script builds a system with one protein and 100 ligands solvated in water"
   ]
  },
  {
   "cell_type": "code",
   "execution_count": null,
   "metadata": {},
   "outputs": [],
   "source": [
    "ligand_file = './fxr_lig_2.mol2'\n",
    "protein_file = \"./fxr_oneframe.pdb\""
   ]
  },
  {
   "cell_type": "markdown",
   "metadata": {},
   "source": [
    "# Parameterize ligand\n",
    "\n",
    "#TODO swap with rdkit implementation"
   ]
  },
  {
   "cell_type": "code",
   "execution_count": null,
   "metadata": {},
   "outputs": [],
   "source": [
    "# ff = ForceField('forcefield/smirnoff99Frosst.ffxml') \n",
    "\n",
    "ifile = oechem.oemolistream(ligand_file)\n",
    "ligand_oemol = oechem.OEMol()\n",
    "oechem.OEReadMolecule( ifile, ligand_oemol)\n",
    "ifile.close()\n",
    "ligand_pmd = utils.generateSMIRNOFFStructure(ligand_oemol)\n",
    "for i in ligand_pmd.residues:\n",
    "    i.name = 'LIG'\n"
   ]
  },
  {
   "cell_type": "markdown",
   "metadata": {},
   "source": [
    "# Prepare protein for packmol"
   ]
  },
  {
   "cell_type": "code",
   "execution_count": null,
   "metadata": {},
   "outputs": [],
   "source": [
    "protein = pmd.load_file(protein_file)\n",
    "protein = protein[\"!(:HOH,NA,CL)\"] #remove ions and water\n",
    "\n",
    "\n",
    "forcefield = app.ForceField('amber99sb.xml', 'tip3p.xml', 'residues.xml')\n",
    "protein_system = forcefield.createSystem(protein.topology, nonbondedMethod=app.PME,\n",
    "            nonbondedCutoff=1*unit.nanometer, constraints=HBonds)\n",
    "\n",
    "protein_pmd = pmd.openmm.load_topology(protein.topology, protein_system, protein.positions)\n",
    "protein_pmd"
   ]
  },
  {
   "cell_type": "code",
   "execution_count": null,
   "metadata": {},
   "outputs": [],
   "source": [
    "# protein_copy = copy.deepcopy(protein_pmd)\n",
    "# for idx, val in enumerate(protein_copy.topology.residues()):\n",
    "#     print(val.id)\n",
    "protein_pmd.write_pdb(\"./tmp.pdb\", renumber = True)"
   ]
  },
  {
   "cell_type": "markdown",
   "metadata": {},
   "source": [
    "# Packmol\n",
    "\n",
    "### TODO : supply density for packing\n",
    "\n",
    "packing ligand with protein"
   ]
  },
  {
   "cell_type": "code",
   "execution_count": null,
   "metadata": {},
   "outputs": [],
   "source": [
    "num_lig = 100\n",
    "\n",
    "\n",
    "ligand_mdtraj = md.load_mol2(ligand_file)\n",
    "protein_mdtraj = md.load(\"./tmp.pdb\")\n",
    "box_size = packmol.approximate_volume([\"./tmp.pdb\", ligand_file], [1, num_lig], box_scaleup_factor = 2) #factor was 1.5 but keep getting nan during simulation\n",
    "packmol_out = packmol.pack_box([protein_mdtraj, ligand_mdtraj], [1, num_lig], box_size = box_size)\n",
    "\n",
    "packmol_out.save('./complex_presolvate.pdb')\n",
    "\n",
    "nv.show_mdtraj(packmol_out)"
   ]
  },
  {
   "cell_type": "code",
   "execution_count": null,
   "metadata": {
    "scrolled": true
   },
   "outputs": [],
   "source": [
    "prot_lig_pmd = protein_pmd + ligand_pmd * num_lig\n",
    "\n",
    "prot_lig_pmd.positions = packmol_out.openmm_positions(0)\n",
    "\n",
    "print(prot_lig_pmd)\n",
    "# system = prot_lig_pmd.createSystem(nonbondedMethod=app.CutoffPeriodic, nonbondedCutoff=1*unit.nanometer, constraints=app.AllBonds)\n",
    "# prot_lig_pmd.visualize() # this does not work"
   ]
  },
  {
   "cell_type": "markdown",
   "metadata": {},
   "source": [
    "# Solvation"
   ]
  },
  {
   "cell_type": "code",
   "execution_count": null,
   "metadata": {},
   "outputs": [],
   "source": [
    "fixer = PDBFixer('./complex_presolvate.pdb')\n",
    "\n",
    "\n",
    "#0.1 in Vec3 because box_size is in angstrom and fixer uses nanometer\n",
    "#scaling factor to somehow ensure no interaction with periodic image \n",
    "scaling_factor = 1.0\n",
    "fixer.addSolvent(scaling_factor * box_size *Vec3(0.1, 0.1, 0.1), positiveIon='Na+', negativeIon='Cl-', ionicStrength=0.1*unit.molar)\n",
    "\n",
    "app.PDBFile.writeFile(fixer.topology, fixer.positions, open('./complex_solvated.pdb', 'w'))\n"
   ]
  },
  {
   "cell_type": "markdown",
   "metadata": {},
   "source": [
    "# Paramtersing Ions (water needs to be treated differently)\n",
    "\n",
    "Although for ions it says it is unparametersied, it seems to be parameterised\n",
    "\n",
    "cannot get the flexibleConstraints to work at the moment\n",
    "\n",
    "Using instead a prmtop file for water "
   ]
  },
  {
   "cell_type": "code",
   "execution_count": null,
   "metadata": {},
   "outputs": [],
   "source": [
    "complex = pmd.load_file('./complex_solvated.pdb')\n"
   ]
  },
  {
   "cell_type": "code",
   "execution_count": null,
   "metadata": {},
   "outputs": [],
   "source": [
    "ions = complex[\"(:NA,CL)\"]\n",
    "\n",
    "\n",
    "forcefield = app.ForceField('amber99sb.xml')\n",
    "ions_system = forcefield.createSystem(ions.topology, nonbondedMethod=app.PME,\n",
    "            nonbondedCutoff=1*unit.nanometer, constraints=app.AllBonds)\n",
    "# print(solvent_system.getNumConstraints())\n",
    "\n",
    "ions_pmd = pmd.openmm.load_topology(ions.topology, ions_system, ions.positions)"
   ]
  },
  {
   "cell_type": "markdown",
   "metadata": {},
   "source": [
    "# Paramtersing water\n",
    "\n",
    "using water coordinates from pdb, and pre-stored prmtop of a single water molecule "
   ]
  },
  {
   "cell_type": "code",
   "execution_count": null,
   "metadata": {},
   "outputs": [],
   "source": [
    "solvent = complex[\"(:HOH)\"]\n",
    "num_solvent = len(solvent.residues)\n",
    "# # This does not currently work for water\n",
    "# forcefield = app.ForceField('amber99sb.xml', 'tip3p.xml', 'residues.xml')\n",
    "# solvent_system = forcefield.createSystem(solvent.topology, nonbondedMethod=app.PME,\n",
    "#             nonbondedCutoff=1*unit.nanometer, constraints=HBonds, rigidwater = True , flexibleConstraints=True)\n",
    "# print(solvent_system.getNumConstraints())\n",
    "\n",
    "\n",
    "solvent_pmd = pmd.load_file(\"./tip3p.prmtop\")\n",
    "solvent_pmd *= num_solvent\n",
    "solvent_pmd.positions = solvent.positions\n",
    "\n",
    "# view = solvent_pmd.visualize()\n",
    "# view.add_line(selection='all')\n",
    "# view"
   ]
  },
  {
   "cell_type": "code",
   "execution_count": null,
   "metadata": {},
   "outputs": [],
   "source": [
    "combined_pmd = prot_lig_pmd + ions_pmd + solvent_pmd\n",
    "combined_pmd.box_vectors = complex.box_vectors\n",
    "\n",
    "combined_system = combined_pmd.createSystem(nonbondedMethod=app.CutoffPeriodic, \n",
    "                               nonbondedCutoff=1*unit.nanometer, constraints=app.AllBonds)\n",
    "\n",
    "\n",
    "import pickle\n",
    "pickle_out = open(\"./complex_system.pickle\",\"wb\")\n",
    "pickle.dump([combined_pmd], pickle_out)\n",
    "pickle_out.close()\n",
    "\n",
    "\n",
    "#################################################################\n"
   ]
  },
  {
   "cell_type": "code",
   "execution_count": null,
   "metadata": {},
   "outputs": [],
   "source": [
    "\n",
    "\n",
    "temp = 300 # needs to run simulation in several stages, otherwise explodes\n",
    "\n",
    "\n",
    "integrator = VerletIntegrator(0.002 * unit.picoseconds)\n",
    "thermostat = AndersenThermostat(temp * unit.kelvin, 1/unit.picosecond)\n",
    "combined_system.addForce(thermostat)\n",
    "barostat = MonteCarloBarostat(1.013 * unit.bar, 300 * unit.kelvin)\n",
    "combined_system.addForce(barostat)\n",
    "\n",
    "\n",
    "\n",
    "platform = Platform.getPlatformByName('CPU')\n",
    "simulation = app.Simulation(combined_pmd.topology, combined_system, integrator, platform)\n",
    "\n",
    "if combined_pmd.box_vectors is not None:\n",
    "    simulation.context.setPeriodicBoxVectors(*combined_pmd.box_vectors)\n",
    "simulation.context.setPositions(combined_pmd.positions)\n",
    "\n",
    "\n",
    "\n",
    "\n",
    "\n",
    "\n",
    "simulation.minimizeEnergy()\n",
    "simulation.step(100000)"
   ]
  }
 ],
 "metadata": {
  "kernelspec": {
   "display_name": "Python 3",
   "language": "python",
   "name": "python3"
  },
  "language_info": {
   "codemirror_mode": {
    "name": "ipython",
    "version": 3
   },
   "file_extension": ".py",
   "mimetype": "text/x-python",
   "name": "python",
   "nbconvert_exporter": "python",
   "pygments_lexer": "ipython3",
   "version": "3.6.1"
  }
 },
 "nbformat": 4,
 "nbformat_minor": 2
}
